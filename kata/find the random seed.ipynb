{
 "cells": [
  {
   "cell_type": "code",
   "execution_count": null,
   "id": "2b27f7ee",
   "metadata": {},
   "outputs": [],
   "source": [
    "import random \n",
    "\n",
    "def find_random_seed(lst):\n",
    "    for seed in range(10000):\n",
    "        random.seed(seed)\n",
    "        generated_lst = [random.randint(0, 100) for _ in range(len(lst))]\n",
    "        if generated_lst == lst:\n",
    "            return seed\n"
   ]
  }
 ],
 "metadata": {
  "kernelspec": {
   "display_name": "Python 3 (ipykernel)",
   "language": "python",
   "name": "python3"
  },
  "language_info": {
   "codemirror_mode": {
    "name": "ipython",
    "version": 3
   },
   "file_extension": ".py",
   "mimetype": "text/x-python",
   "name": "python",
   "nbconvert_exporter": "python",
   "pygments_lexer": "ipython3",
   "version": "3.9.16"
  }
 },
 "nbformat": 4,
 "nbformat_minor": 5
}
