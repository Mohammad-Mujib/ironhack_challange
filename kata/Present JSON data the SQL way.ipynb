{
 "cells": [
  {
   "cell_type": "code",
   "execution_count": null,
   "id": "d58228c2",
   "metadata": {},
   "outputs": [],
   "source": [
    "select \n",
    "  data->>'first_name' as first_name,\n",
    "  data->>'last_name' as last_name,\n",
    "  extract(year from age(now(), (data->>'date_of_birth')::date))::integer as age,\n",
    "  case\n",
    "    when data->>'private' = 'true' then 'Hidden'\n",
    "    when data->>'private' = 'false' and data#>>'{email_addresses, 0}' is null then 'None'\n",
    "    else data#>>'{email_addresses, 0}'\n",
    "  end as email_address\n",
    "from users\n",
    "order by first_name, last_name "
   ]
  }
 ],
 "metadata": {
  "kernelspec": {
   "display_name": "Python [conda env:m1_env]",
   "language": "python",
   "name": "conda-env-m1_env-py"
  },
  "language_info": {
   "codemirror_mode": {
    "name": "ipython",
    "version": 3
   },
   "file_extension": ".py",
   "mimetype": "text/x-python",
   "name": "python",
   "nbconvert_exporter": "python",
   "pygments_lexer": "ipython3",
   "version": "3.10.9"
  }
 },
 "nbformat": 4,
 "nbformat_minor": 5
}
