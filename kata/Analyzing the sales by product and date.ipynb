{
 "cells": [
  {
   "cell_type": "code",
   "execution_count": null,
   "id": "bbd6536a",
   "metadata": {},
   "outputs": [],
   "source": [
    "SELECT p.name AS product_name,\n",
    "  EXTRACT(YEAR FROM s.date) AS year,\n",
    "  EXTRACT(MONTH FROM s.date) AS month,\n",
    "  EXTRACT(DAY FROM s.date) AS day,\n",
    "  SUM(sd.count * p.price) AS total\n",
    "  \n",
    "FROM products p\n",
    "\n",
    "JOIN sales_details sd ON p.id = sd.product_id \n",
    "JOIN sales s ON sd.sale_id = s.id\n",
    "\n",
    "  \n",
    "GROUP BY  p.name, ROLLUP (year, month, day)\n",
    "ORDER BY p.name, year, month,day; "
   ]
  }
 ],
 "metadata": {
  "kernelspec": {
   "display_name": "Python [conda env:m3_env]",
   "language": "python",
   "name": "conda-env-m3_env-py"
  },
  "language_info": {
   "codemirror_mode": {
    "name": "ipython",
    "version": 3
   },
   "file_extension": ".py",
   "mimetype": "text/x-python",
   "name": "python",
   "nbconvert_exporter": "python",
   "pygments_lexer": "ipython3",
   "version": "3.10.9"
  }
 },
 "nbformat": 4,
 "nbformat_minor": 5
}
