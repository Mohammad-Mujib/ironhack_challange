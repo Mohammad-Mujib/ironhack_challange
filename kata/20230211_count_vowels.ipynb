{
 "cells": [
  {
   "cell_type": "markdown",
   "id": "91d8aaca",
   "metadata": {},
   "source": [
    "# Kata Counting Vowels"
   ]
  },
  {
   "cell_type": "code",
   "execution_count": 1,
   "id": "46a23a3f",
   "metadata": {},
   "outputs": [
    {
     "name": "stdout",
     "output_type": "stream",
     "text": [
      "5\n"
     ]
    }
   ],
   "source": [
    "def count_vowel(sentence):\n",
    "    count=0\n",
    "    for i in sentence:\n",
    "        if i in \"aeiou\":\n",
    "            count=count+1\n",
    "    return count\n",
    "        \n",
    "print(count_vowel(\"aeiou\"))\n",
    "        "
   ]
  },
  {
   "cell_type": "code",
   "execution_count": null,
   "id": "bb69b706",
   "metadata": {},
   "outputs": [],
   "source": []
  }
 ],
 "metadata": {
  "kernelspec": {
   "display_name": "Python [conda env:m1_env]",
   "language": "python",
   "name": "conda-env-m1_env-py"
  },
  "language_info": {
   "codemirror_mode": {
    "name": "ipython",
    "version": 3
   },
   "file_extension": ".py",
   "mimetype": "text/x-python",
   "name": "python",
   "nbconvert_exporter": "python",
   "pygments_lexer": "ipython3",
   "version": "3.9.16"
  }
 },
 "nbformat": 4,
 "nbformat_minor": 5
}
