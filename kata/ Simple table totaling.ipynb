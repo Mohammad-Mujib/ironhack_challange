{
 "cells": [
  {
   "cell_type": "code",
   "execution_count": null,
   "id": "01b62191",
   "metadata": {},
   "outputs": [],
   "source": [
    "SELECT \n",
    "  RANK() OVER (ORDER BY SUM(points) DESC) AS rank, \n",
    "  COALESCE(NULLIF(clan, ''), '[no clan specified]') AS clan, \n",
    "  SUM(points) AS total_points, \n",
    "  COUNT(*) AS total_people \n",
    "FROM people \n",
    "GROUP BY clan \n",
    "ORDER BY total_points DESC;"
   ]
  }
 ],
 "metadata": {
  "kernelspec": {
   "display_name": "Python [conda env:m2_env]",
   "language": "python",
   "name": "conda-env-m2_env-py"
  },
  "language_info": {
   "codemirror_mode": {
    "name": "ipython",
    "version": 3
   },
   "file_extension": ".py",
   "mimetype": "text/x-python",
   "name": "python",
   "nbconvert_exporter": "python",
   "pygments_lexer": "ipython3",
   "version": "3.11.2"
  }
 },
 "nbformat": 4,
 "nbformat_minor": 5
}
