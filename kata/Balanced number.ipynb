{
 "cells": [
  {
   "cell_type": "code",
   "execution_count": 1,
   "id": "5d9784ba",
   "metadata": {},
   "outputs": [],
   "source": [
    "def balanced_num(number):\n",
    "    length = len(str(number))\n",
    "    center = length // 2\n",
    "    if (length % 2) != 0 :\n",
    "        print(\"odd\")\n",
    "        center_number = str(number)[center]\n",
    "    else:\n",
    "        print(\"even\")\n",
    "        center_number1 = str(number)[center]\n",
    "        center_number2 \n",
    "        \n",
    "    \n",
    "    #print(length, center_number)"
   ]
  },
  {
   "cell_type": "code",
   "execution_count": 2,
   "id": "187881a7",
   "metadata": {},
   "outputs": [
    {
     "name": "stdout",
     "output_type": "stream",
     "text": [
      "odd\n"
     ]
    }
   ],
   "source": [
    "balanced_num(96908)"
   ]
  },
  {
   "cell_type": "code",
   "execution_count": null,
   "id": "36a658d1",
   "metadata": {},
   "outputs": [],
   "source": []
  },
  {
   "cell_type": "code",
   "execution_count": null,
   "id": "adf4eea1",
   "metadata": {},
   "outputs": [],
   "source": []
  }
 ],
 "metadata": {
  "kernelspec": {
   "display_name": "Python [conda env:jupyter_env] *",
   "language": "python",
   "name": "conda-env-jupyter_env-py"
  },
  "language_info": {
   "codemirror_mode": {
    "name": "ipython",
    "version": 3
   },
   "file_extension": ".py",
   "mimetype": "text/x-python",
   "name": "python",
   "nbconvert_exporter": "python",
   "pygments_lexer": "ipython3",
   "version": "3.9.16"
  }
 },
 "nbformat": 4,
 "nbformat_minor": 5
}
