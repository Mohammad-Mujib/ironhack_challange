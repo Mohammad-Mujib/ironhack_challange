{
 "cells": [
  {
   "cell_type": "code",
   "execution_count": null,
   "id": "3b75ab10",
   "metadata": {},
   "outputs": [],
   "source": [
    "#SQL Basics: Group By Day\n",
    "\n",
    "SELECT DATE(created_at) AS \"day\", description, COUNT(*) AS \"count\"\n",
    "FROM events\n",
    "WHERE name = 'trained'\n",
    "GROUP BY \"day\" , \"description\"\n",
    "ORDER BY \"day\" ASC\n"
   ]
  },
  {
   "cell_type": "code",
   "execution_count": null,
   "id": "07fc0725",
   "metadata": {},
   "outputs": [],
   "source": [
    "#Countries Capitals for Trivia Night (SQL for Beginners #6)\n",
    "\n",
    "SELECT capital\n",
    "FROM countries\n",
    "WHERE continent IN ('Africa', 'Afrika') AND country LIKE 'E%'\n",
    "ORDER BY capital\n",
    "LIMIT 3\n"
   ]
  },
  {
   "cell_type": "code",
   "execution_count": null,
   "id": "e21dd329",
   "metadata": {},
   "outputs": [],
   "source": [
    "#SQL Bug Fixing: Fix the QUERY - Totaling\n",
    "\n",
    "SELECT \n",
    "  s.transaction_date as day,\n",
    "  d.name department,\n",
    "  COUNT(s.id) AS sale_count\n",
    "  FROM department d\n",
    "    JOIN sale s on d.id = s.department_id\n",
    "  group by s.transaction_date, d.name\n",
    "  order by d.name desc"
   ]
  }
 ],
 "metadata": {
  "kernelspec": {
   "display_name": "Python [conda env:m1_env]",
   "language": "python",
   "name": "conda-env-m1_env-py"
  },
  "language_info": {
   "codemirror_mode": {
    "name": "ipython",
    "version": 3
   },
   "file_extension": ".py",
   "mimetype": "text/x-python",
   "name": "python",
   "nbconvert_exporter": "python",
   "pygments_lexer": "ipython3",
   "version": "3.10.9"
  }
 },
 "nbformat": 4,
 "nbformat_minor": 5
}
