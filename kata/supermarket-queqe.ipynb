{
 "cells": [
  {
   "cell_type": "code",
   "execution_count": 1,
   "id": "b60fd132",
   "metadata": {},
   "outputs": [],
   "source": [
    "def queue_time(customers, n):\n",
    "    n = 2\n",
    "    customersn= [2,2,3,3,4,4]\n",
    "    queue = [0]*n # [0 for i in range(n)]\n",
    "    \n",
    "    queue"
   ]
  },
  {
   "cell_type": "code",
   "execution_count": null,
   "id": "6b39f2d4",
   "metadata": {},
   "outputs": [],
   "source": [
    "for c in customers:\n",
    "    queue = sorted(queue)"
   ]
  }
 ],
 "metadata": {
  "kernelspec": {
   "display_name": "Python [conda env:jupyter_env] *",
   "language": "python",
   "name": "conda-env-jupyter_env-py"
  },
  "language_info": {
   "codemirror_mode": {
    "name": "ipython",
    "version": 3
   },
   "file_extension": ".py",
   "mimetype": "text/x-python",
   "name": "python",
   "nbconvert_exporter": "python",
   "pygments_lexer": "ipython3",
   "version": "3.9.16"
  }
 },
 "nbformat": 4,
 "nbformat_minor": 5
}
