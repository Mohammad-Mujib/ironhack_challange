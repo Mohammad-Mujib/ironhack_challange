{
 "cells": [
  {
   "cell_type": "code",
   "execution_count": 1,
   "id": "a7c8792b",
   "metadata": {},
   "outputs": [],
   "source": [
    "def parse(data):\n",
    "    value = 0\n",
    "    output = []\n",
    "    for char in data:\n",
    "        if char == 'i':\n",
    "            value += 1\n",
    "        elif char == 'd':\n",
    "            value -= 1\n",
    "        elif char == 's':\n",
    "            value *= value\n",
    "        elif char == 'o':\n",
    "            output.append(value)\n",
    "    return output"
   ]
  },
  {
   "cell_type": "code",
   "execution_count": 2,
   "id": "ec5d67d0",
   "metadata": {},
   "outputs": [
    {
     "data": {
      "text/plain": [
       "[8, 64]"
      ]
     },
     "execution_count": 2,
     "metadata": {},
     "output_type": "execute_result"
    }
   ],
   "source": [
    "parse(\"iiisdoso\")"
   ]
  },
  {
   "cell_type": "code",
   "execution_count": null,
   "id": "a919543d",
   "metadata": {},
   "outputs": [],
   "source": []
  }
 ],
 "metadata": {
  "kernelspec": {
   "display_name": "Python [conda env:m1_env]",
   "language": "python",
   "name": "conda-env-m1_env-py"
  },
  "language_info": {
   "codemirror_mode": {
    "name": "ipython",
    "version": 3
   },
   "file_extension": ".py",
   "mimetype": "text/x-python",
   "name": "python",
   "nbconvert_exporter": "python",
   "pygments_lexer": "ipython3",
   "version": "3.10.9"
  }
 },
 "nbformat": 4,
 "nbformat_minor": 5
}
