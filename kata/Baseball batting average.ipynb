{
 "cells": [
  {
   "cell_type": "code",
   "execution_count": null,
   "id": "f3970816",
   "metadata": {},
   "outputs": [],
   "source": [
    "SELECT player_name, games, \n",
    "CAST(round((CAST(hits AS decimal) / CAST(at_bats AS decimal)),3) AS TEXT) AS batting_average\n",
    "FROM yankees\n",
    "WHERE at_bats >= 100\n",
    "ORDER BY batting_average DESC;"
   ]
  }
 ],
 "metadata": {
  "kernelspec": {
   "display_name": "Python [conda env:m2_env]",
   "language": "python",
   "name": "conda-env-m2_env-py"
  },
  "language_info": {
   "codemirror_mode": {
    "name": "ipython",
    "version": 3
   },
   "file_extension": ".py",
   "mimetype": "text/x-python",
   "name": "python",
   "nbconvert_exporter": "python",
   "pygments_lexer": "ipython3",
   "version": "3.11.2"
  }
 },
 "nbformat": 4,
 "nbformat_minor": 5
}
