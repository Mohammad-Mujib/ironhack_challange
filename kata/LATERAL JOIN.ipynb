{
 "cells": [
  {
   "cell_type": "code",
   "execution_count": null,
   "id": "a183e071",
   "metadata": {},
   "outputs": [],
   "source": [
    "SELECT c.id AS category_id, c.category,  \n",
    "  p.id as post_id, p.views, p.title\n",
    "FROM categories AS c\n",
    "LEFT JOIN LATERAL \n",
    "  (SELECT id, category_id, title, views\n",
    "  FROM posts AS p\n",
    "  WHERE c.id = p.category_id\n",
    "  ORDER BY views DESC\n",
    "  LIMIT 2) p ON c.id = p.category_id"
   ]
  }
 ],
 "metadata": {
  "kernelspec": {
   "display_name": "Python [conda env:m2_env]",
   "language": "python",
   "name": "conda-env-m2_env-py"
  },
  "language_info": {
   "codemirror_mode": {
    "name": "ipython",
    "version": 3
   },
   "file_extension": ".py",
   "mimetype": "text/x-python",
   "name": "python",
   "nbconvert_exporter": "python",
   "pygments_lexer": "ipython3",
   "version": "3.11.2"
  }
 },
 "nbformat": 4,
 "nbformat_minor": 5
}
