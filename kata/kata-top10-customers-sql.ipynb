{
 "cells": [
  {
   "cell_type": "code",
   "execution_count": null,
   "id": "ac09855e",
   "metadata": {},
   "outputs": [],
   "source": [
    "SELECT \n",
    "  c.customer_id, \n",
    "  c.email, \n",
    "  COUNT(p.amount) AS payments_count, \n",
    "  SUM(p.amount)::FLOAT AS total_amount\n",
    "FROM payment AS p\n",
    "INNER JOIN customer AS c ON c.customer_id = p.customer_id\n",
    "GROUP BY c.customer_id\n",
    "ORDER BY total_amount DESC\n",
    "LIMIT 10;"
   ]
  }
 ],
 "metadata": {
  "kernelspec": {
   "display_name": "Python [conda env:m1_env]",
   "language": "python",
   "name": "conda-env-m1_env-py"
  },
  "language_info": {
   "codemirror_mode": {
    "name": "ipython",
    "version": 3
   },
   "file_extension": ".py",
   "mimetype": "text/x-python",
   "name": "python",
   "nbconvert_exporter": "python",
   "pygments_lexer": "ipython3",
   "version": "3.10.9"
  }
 },
 "nbformat": 4,
 "nbformat_minor": 5
}
