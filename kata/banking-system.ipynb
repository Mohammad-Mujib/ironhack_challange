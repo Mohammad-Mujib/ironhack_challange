{
 "cells": [
  {
   "cell_type": "code",
   "execution_count": 10,
   "id": "6eb33d42",
   "metadata": {},
   "outputs": [],
   "source": [
    "class User(object):\n",
    "    def __init__(self, name, balance, checking_account):\n",
    "        self.name = name\n",
    "        self.balance = balance\n",
    "        self.checking_account = checking_account\n",
    "        \n",
    "    def withdraw(self,draw):\n",
    "        if self.balance - draw < 0 :\n",
    "            raise ValueError()\n",
    "        else:\n",
    "            self.balance -= draw\n",
    "            return self.name + \" has \" + str(self.balance) + \".\"\n",
    "        \n",
    "    def check(self,other_user,add):\n",
    "        if not other_user.checking_account or other_user.balance < add:\n",
    "            raise ValueError()\n",
    "        self.balance += add\n",
    "        other_user.balance -= add\n",
    "        return self.name + \" has \" + str(self.balance) + \" and \" + other_user.name + \" has \" + str(other_user.balance) + \".\"\n",
    "    \n",
    "    def add_cash(self, adding):\n",
    "        self.balance += adding\n",
    "        return self.name + \" has \" + str(self.balance) + \".\"\n",
    "        \n",
    "            "
   ]
  },
  {
   "cell_type": "code",
   "execution_count": 11,
   "id": "fc8d955b",
   "metadata": {},
   "outputs": [],
   "source": [
    "Jeff = User(name = \"Jeff\", balance = 70, checking_account = True )"
   ]
  },
  {
   "cell_type": "code",
   "execution_count": 12,
   "id": "edbfd26a",
   "metadata": {},
   "outputs": [],
   "source": [
    "Joe = User(name = \"Joe\", balance = 50, checking_account = True )"
   ]
  },
  {
   "cell_type": "code",
   "execution_count": 13,
   "id": "255e7edd",
   "metadata": {},
   "outputs": [
    {
     "data": {
      "text/plain": [
       "'Jeff has 90 and Joe has 30.'"
      ]
     },
     "execution_count": 13,
     "metadata": {},
     "output_type": "execute_result"
    }
   ],
   "source": [
    "Jeff.check(Joe, 20)"
   ]
  },
  {
   "cell_type": "code",
   "execution_count": null,
   "id": "b00850e3",
   "metadata": {},
   "outputs": [],
   "source": []
  }
 ],
 "metadata": {
  "kernelspec": {
   "display_name": "Python [conda env:jupyter_env] *",
   "language": "python",
   "name": "conda-env-jupyter_env-py"
  },
  "language_info": {
   "codemirror_mode": {
    "name": "ipython",
    "version": 3
   },
   "file_extension": ".py",
   "mimetype": "text/x-python",
   "name": "python",
   "nbconvert_exporter": "python",
   "pygments_lexer": "ipython3",
   "version": "3.9.16"
  }
 },
 "nbformat": 4,
 "nbformat_minor": 5
}
