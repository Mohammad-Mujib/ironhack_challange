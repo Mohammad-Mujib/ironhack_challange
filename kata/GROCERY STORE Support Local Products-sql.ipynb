{
 "cells": [
  {
   "cell_type": "code",
   "execution_count": null,
   "id": "9c4da11e",
   "metadata": {},
   "outputs": [],
   "source": [
    "SELECT COUNT(*) AS products, country\n",
    "FROM products\n",
    "WHERE country IN ('United States of America', 'Canada')\n",
    "GROUP BY country\n",
    "ORDER BY products DESC;"
   ]
  }
 ],
 "metadata": {
  "kernelspec": {
   "display_name": "Python [conda env:m1_env]",
   "language": "python",
   "name": "conda-env-m1_env-py"
  },
  "language_info": {
   "codemirror_mode": {
    "name": "ipython",
    "version": 3
   },
   "file_extension": ".py",
   "mimetype": "text/x-python",
   "name": "python",
   "nbconvert_exporter": "python",
   "pygments_lexer": "ipython3",
   "version": "3.10.9"
  }
 },
 "nbformat": 4,
 "nbformat_minor": 5
}
